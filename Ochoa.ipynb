{
  "nbformat": 4,
  "nbformat_minor": 0,
  "metadata": {
    "colab": {
      "provenance": []
    },
    "kernelspec": {
      "name": "python3",
      "display_name": "Python 3"
    },
    "language_info": {
      "name": "python"
    }
  },
  "cells": [
    {
      "cell_type": "code",
      "execution_count": null,
      "metadata": {
        "id": "z8ll8hMPCdpA"
      },
      "outputs": [],
      "source": []
    },
    {
      "cell_type": "markdown",
      "source": [
        "#TAREA 1 A continuación se elabora la solución de las preguntas 8 y 9 del libro\n"
      ],
      "metadata": {
        "id": "HReCz6dHDlPU"
      }
    },
    {
      "cell_type": "code",
      "source": [
        "\n",
        "#Se configuran las librerias para nuestro entorno de trabajo\n",
        "import os, sys\n",
        "from google.colab import drive\n",
        "drive.mount('content/drive')\n",
        "nb_path = 'content/notebooks'\n",
        "os.symlink('/content/drive/My drive/Colab Notebooks', nb_path)\n",
        "sys.path.insert(0,nb_path)\n",
        "\n"
      ],
      "metadata": {
        "colab": {
          "base_uri": "https://localhost:8080/",
          "height": 356
        },
        "id": "gh0aI7jXD3Kt",
        "outputId": "bf0b47a0-4a29-4898-cff0-083d30e625ac"
      },
      "execution_count": 3,
      "outputs": [
        {
          "output_type": "error",
          "ename": "ValueError",
          "evalue": "Mountpoint must be in a directory that exists",
          "traceback": [
            "\u001b[0;31m---------------------------------------------------------------------------\u001b[0m",
            "\u001b[0;31mValueError\u001b[0m                                Traceback (most recent call last)",
            "\u001b[0;32m<ipython-input-3-fd3f995514bd>\u001b[0m in \u001b[0;36m<cell line: 4>\u001b[0;34m()\u001b[0m\n\u001b[1;32m      2\u001b[0m \u001b[0;32mimport\u001b[0m \u001b[0mos\u001b[0m\u001b[0;34m,\u001b[0m \u001b[0msys\u001b[0m\u001b[0;34m\u001b[0m\u001b[0;34m\u001b[0m\u001b[0m\n\u001b[1;32m      3\u001b[0m \u001b[0;32mfrom\u001b[0m \u001b[0mgoogle\u001b[0m\u001b[0;34m.\u001b[0m\u001b[0mcolab\u001b[0m \u001b[0;32mimport\u001b[0m \u001b[0mdrive\u001b[0m\u001b[0;34m\u001b[0m\u001b[0;34m\u001b[0m\u001b[0m\n\u001b[0;32m----> 4\u001b[0;31m \u001b[0mdrive\u001b[0m\u001b[0;34m.\u001b[0m\u001b[0mmount\u001b[0m\u001b[0;34m(\u001b[0m\u001b[0;34m'content/drive'\u001b[0m\u001b[0;34m)\u001b[0m\u001b[0;34m\u001b[0m\u001b[0;34m\u001b[0m\u001b[0m\n\u001b[0m\u001b[1;32m      5\u001b[0m \u001b[0mnb_path\u001b[0m \u001b[0;34m=\u001b[0m \u001b[0;34m'content/notebooks'\u001b[0m\u001b[0;34m\u001b[0m\u001b[0;34m\u001b[0m\u001b[0m\n\u001b[1;32m      6\u001b[0m \u001b[0mos\u001b[0m\u001b[0;34m.\u001b[0m\u001b[0msymlink\u001b[0m\u001b[0;34m(\u001b[0m\u001b[0;34m'/content/drive/My drive/Colab Notebooks'\u001b[0m\u001b[0;34m,\u001b[0m \u001b[0mnb_path\u001b[0m\u001b[0;34m)\u001b[0m\u001b[0;34m\u001b[0m\u001b[0;34m\u001b[0m\u001b[0m\n",
            "\u001b[0;32m/usr/local/lib/python3.10/dist-packages/google/colab/drive.py\u001b[0m in \u001b[0;36mmount\u001b[0;34m(mountpoint, force_remount, timeout_ms, readonly)\u001b[0m\n\u001b[1;32m     98\u001b[0m \u001b[0;32mdef\u001b[0m \u001b[0mmount\u001b[0m\u001b[0;34m(\u001b[0m\u001b[0mmountpoint\u001b[0m\u001b[0;34m,\u001b[0m \u001b[0mforce_remount\u001b[0m\u001b[0;34m=\u001b[0m\u001b[0;32mFalse\u001b[0m\u001b[0;34m,\u001b[0m \u001b[0mtimeout_ms\u001b[0m\u001b[0;34m=\u001b[0m\u001b[0;36m120000\u001b[0m\u001b[0;34m,\u001b[0m \u001b[0mreadonly\u001b[0m\u001b[0;34m=\u001b[0m\u001b[0;32mFalse\u001b[0m\u001b[0;34m)\u001b[0m\u001b[0;34m:\u001b[0m\u001b[0;34m\u001b[0m\u001b[0;34m\u001b[0m\u001b[0m\n\u001b[1;32m     99\u001b[0m   \u001b[0;34m\"\"\"Mount your Google Drive at the specified mountpoint path.\"\"\"\u001b[0m\u001b[0;34m\u001b[0m\u001b[0;34m\u001b[0m\u001b[0m\n\u001b[0;32m--> 100\u001b[0;31m   return _mount(\n\u001b[0m\u001b[1;32m    101\u001b[0m       \u001b[0mmountpoint\u001b[0m\u001b[0;34m,\u001b[0m\u001b[0;34m\u001b[0m\u001b[0;34m\u001b[0m\u001b[0m\n\u001b[1;32m    102\u001b[0m       \u001b[0mforce_remount\u001b[0m\u001b[0;34m=\u001b[0m\u001b[0mforce_remount\u001b[0m\u001b[0;34m,\u001b[0m\u001b[0;34m\u001b[0m\u001b[0;34m\u001b[0m\u001b[0m\n",
            "\u001b[0;32m/usr/local/lib/python3.10/dist-packages/google/colab/drive.py\u001b[0m in \u001b[0;36m_mount\u001b[0;34m(mountpoint, force_remount, timeout_ms, ephemeral, readonly)\u001b[0m\n\u001b[1;32m    196\u001b[0m     \u001b[0mnormed\u001b[0m \u001b[0;34m=\u001b[0m \u001b[0m_os\u001b[0m\u001b[0;34m.\u001b[0m\u001b[0mpath\u001b[0m\u001b[0;34m.\u001b[0m\u001b[0mnormpath\u001b[0m\u001b[0;34m(\u001b[0m\u001b[0mmountpoint\u001b[0m\u001b[0;34m)\u001b[0m\u001b[0;34m\u001b[0m\u001b[0;34m\u001b[0m\u001b[0m\n\u001b[1;32m    197\u001b[0m     \u001b[0;32mif\u001b[0m \u001b[0;34m'/'\u001b[0m \u001b[0;32min\u001b[0m \u001b[0mnormed\u001b[0m \u001b[0;32mand\u001b[0m \u001b[0;32mnot\u001b[0m \u001b[0m_os\u001b[0m\u001b[0;34m.\u001b[0m\u001b[0mpath\u001b[0m\u001b[0;34m.\u001b[0m\u001b[0mexists\u001b[0m\u001b[0;34m(\u001b[0m\u001b[0m_os\u001b[0m\u001b[0;34m.\u001b[0m\u001b[0mpath\u001b[0m\u001b[0;34m.\u001b[0m\u001b[0mdirname\u001b[0m\u001b[0;34m(\u001b[0m\u001b[0mnormed\u001b[0m\u001b[0;34m)\u001b[0m\u001b[0;34m)\u001b[0m\u001b[0;34m:\u001b[0m\u001b[0;34m\u001b[0m\u001b[0;34m\u001b[0m\u001b[0m\n\u001b[0;32m--> 198\u001b[0;31m       \u001b[0;32mraise\u001b[0m \u001b[0mValueError\u001b[0m\u001b[0;34m(\u001b[0m\u001b[0;34m'Mountpoint must be in a directory that exists'\u001b[0m\u001b[0;34m)\u001b[0m\u001b[0;34m\u001b[0m\u001b[0;34m\u001b[0m\u001b[0m\n\u001b[0m\u001b[1;32m    199\u001b[0m   \u001b[0;32mexcept\u001b[0m\u001b[0;34m:\u001b[0m\u001b[0;34m\u001b[0m\u001b[0;34m\u001b[0m\u001b[0m\n\u001b[1;32m    200\u001b[0m     \u001b[0md\u001b[0m\u001b[0;34m.\u001b[0m\u001b[0mkill\u001b[0m\u001b[0;34m(\u001b[0m\u001b[0m_signal\u001b[0m\u001b[0;34m.\u001b[0m\u001b[0mSIGKILL\u001b[0m\u001b[0;34m)\u001b[0m\u001b[0;34m\u001b[0m\u001b[0;34m\u001b[0m\u001b[0m\n",
            "\u001b[0;31mValueError\u001b[0m: Mountpoint must be in a directory that exists"
          ]
        }
      ]
    },
    {
      "cell_type": "code",
      "source": [
        "!pip install --target=$nb_path nacal"
      ],
      "metadata": {
        "colab": {
          "base_uri": "https://localhost:8080/",
          "height": 0
        },
        "id": "BShRGIulGw1C",
        "outputId": "8a06c591-c965-48ca-bb5e-5702a2fb6f78"
      },
      "execution_count": 4,
      "outputs": [
        {
          "output_type": "stream",
          "name": "stdout",
          "text": [
            "Collecting nacal\n",
            "  Downloading nacal-0.1.30-py3-none-any.whl (33 kB)\n",
            "Requirement already satisfied: sympy>=1.1.0 in /usr/local/lib/python3.10/dist-packages (from nacal) (1.12)\n",
            "Requirement already satisfied: mpmath>=0.19 in /usr/local/lib/python3.10/dist-packages (from sympy>=1.1.0->nacal) (1.3.0)\n",
            "Installing collected packages: nacal\n",
            "Successfully installed nacal-0.1.30\n"
          ]
        }
      ]
    },
    {
      "cell_type": "code",
      "source": [
        "from nacal import *\n",
        "from IPython.display import display, Math, Latex\n",
        "b = Vector ([0, 4, 6])\n",
        "print(2*b)\n",
        "Latex(latex(2*b))"
      ],
      "metadata": {
        "colab": {
          "base_uri": "https://localhost:8080/",
          "height": 95
        },
        "id": "HkvQMC1fHKck",
        "outputId": "11de58b4-61cd-4af2-f7ec-b3f23c3981cd"
      },
      "execution_count": 5,
      "outputs": [
        {
          "output_type": "stream",
          "name": "stdout",
          "text": [
            "Vector([0, 8, 12])\n"
          ]
        },
        {
          "output_type": "execute_result",
          "data": {
            "text/plain": [
              "<IPython.core.display.Latex object>"
            ],
            "text/latex": "\\begin{pmatrix}0\\\\ 8\\\\ 12\\end{pmatrix}"
          },
          "metadata": {},
          "execution_count": 5
        }
      ]
    },
    {
      "cell_type": "markdown",
      "source": [
        "##PREGUNTA 1\n",
        "¿Es verdad que $$\\begin{pmatrix}1\\\\2\\\\3\\\\\\end{pmatrix}+\\begin{pmatrix}4\\\\5\\\\6\\\\\\end{pmatrix}=\\begin{pmatrix}4\\\\5\\\\6\\\\\\end{pmatrix}+\\begin{pmatrix}1\\\\2\\\\3\\\\\\end{pmatrix}$$\n",
        "\n",
        "¿Es cierto solo para los números del ejemplo? o ¿es una regla general para cualquier par de vectores?"
      ],
      "metadata": {
        "id": "zHsTclrkH8js"
      }
    },
    {
      "cell_type": "markdown",
      "source": [],
      "metadata": {
        "id": "Ryj4NqyTGqFB"
      }
    },
    {
      "cell_type": "code",
      "source": [
        "n = Vector( [1, 2, 3] )\n",
        "m = Vector( [4, 5, 6] )\n",
        "display(Latex(latex(n+m)))\n",
        "display(Latex(latex(m+n)))"
      ],
      "metadata": {
        "colab": {
          "base_uri": "https://localhost:8080/",
          "height": 139
        },
        "id": "ylh_697LH-zd",
        "outputId": "cca827b1-cc22-4590-defa-a8b91ac271e7"
      },
      "execution_count": 6,
      "outputs": [
        {
          "output_type": "display_data",
          "data": {
            "text/plain": [
              "<IPython.core.display.Latex object>"
            ],
            "text/latex": "\\begin{pmatrix}5\\\\ 7\\\\ 9\\end{pmatrix}"
          },
          "metadata": {}
        },
        {
          "output_type": "display_data",
          "data": {
            "text/plain": [
              "<IPython.core.display.Latex object>"
            ],
            "text/latex": "\\begin{pmatrix}5\\\\ 7\\\\ 9\\end{pmatrix}"
          },
          "metadata": {}
        }
      ]
    },
    {
      "cell_type": "markdown",
      "source": [
        "###La respuesta es correcta para ambos vectores\n"
      ],
      "metadata": {
        "id": "lVtyigqiJHBm"
      }
    },
    {
      "cell_type": "markdown",
      "source": [
        "##Pregunta 2\n",
        "¿Es verdad que $$\\begin{pmatrix}1\\\\2\\\\\\end{pmatrix}\\begin{pmatrix}\\begin{pmatrix}4\\\\5\\\\\\end{pmatrix}+\\begin{pmatrix}1\\\\0\\\\\\end{pmatrix}\\end{pmatrix}=\\begin{pmatrix}\\begin{pmatrix}1\\\\2\\\\\\end{pmatrix}+\\begin{pmatrix}4\\\\5\\\\\\end{pmatrix}\\end{pmatrix}+\\begin{pmatrix}1\\\\0\\\\\\end{pmatrix}$$\n",
        "*El parentesis significa que primero hay que hacer la suma dentro del parentesis, y al vector resultante sumarle el vector de fuera.*\n",
        "\n",
        "¿Es cierto solo para los números del ejemplo? o ¿es una regla general para cualquier trio de vectores?"
      ],
      "metadata": {
        "id": "Q20mgCNNJX_M"
      }
    },
    {
      "cell_type": "code",
      "source": [
        "m=Vector([1,2])\n",
        "n=Vector([4,5])\n",
        "o=Vector([1,0])\n",
        "display(Latex(latex(m+(n+o))))\n",
        "display(Latex(latex((m+n)+o)))"
      ],
      "metadata": {
        "colab": {
          "base_uri": "https://localhost:8080/",
          "height": 98
        },
        "id": "2sq80o1RJZlH",
        "outputId": "610a5b27-0e5b-410f-8167-47e7df076028"
      },
      "execution_count": null,
      "outputs": [
        {
          "output_type": "display_data",
          "data": {
            "text/plain": [
              "<IPython.core.display.Latex object>"
            ],
            "text/latex": "\\begin{pmatrix}6\\\\ 7\\end{pmatrix}"
          },
          "metadata": {}
        },
        {
          "output_type": "display_data",
          "data": {
            "text/plain": [
              "<IPython.core.display.Latex object>"
            ],
            "text/latex": "\\begin{pmatrix}6\\\\ 7\\end{pmatrix}"
          },
          "metadata": {}
        }
      ]
    },
    {
      "cell_type": "markdown",
      "source": [
        "### Es cierto para cualquier trio de vectores"
      ],
      "metadata": {
        "id": "TgBhxr2pJl4v"
      }
    },
    {
      "cell_type": "markdown",
      "source": [
        "## Pregunta 3\n",
        "¿Es verdad que $$\\begin{pmatrix}4\\\\5\\\\6\\\\\\end{pmatrix}+\\begin{pmatrix}0\\\\0\\\\0\\\\\\end{pmatrix}=\\begin{pmatrix}4\\\\5\\\\6\\\\\\end{pmatrix}$$\n",
        "\n",
        "¿Es cierto solo para los vectores del ejemplo? o ¿Es una regla general para cualquier par de vectores?"
      ],
      "metadata": {
        "id": "eObYYj0kJuPn"
      }
    },
    {
      "cell_type": "code",
      "source": [
        "m=Vector([4,5,6])\n",
        "n=Vector([7,8,9])\n",
        "o=Vector([0,0,0])\n",
        "display(Latex(latex(m+o)))\n",
        "display(Latex(latex(n+o)))"
      ],
      "metadata": {
        "colab": {
          "base_uri": "https://localhost:8080/",
          "height": 139
        },
        "id": "I3ZvIWywJvXJ",
        "outputId": "3f386cf2-b7ac-47d6-95e3-dbcba4b286a9"
      },
      "execution_count": null,
      "outputs": [
        {
          "output_type": "display_data",
          "data": {
            "text/plain": [
              "<IPython.core.display.Latex object>"
            ],
            "text/latex": "\\begin{pmatrix}4\\\\ 5\\\\ 6\\end{pmatrix}"
          },
          "metadata": {}
        },
        {
          "output_type": "display_data",
          "data": {
            "text/plain": [
              "<IPython.core.display.Latex object>"
            ],
            "text/latex": "\\begin{pmatrix}7\\\\ 8\\\\ 9\\end{pmatrix}"
          },
          "metadata": {}
        }
      ]
    },
    {
      "cell_type": "markdown",
      "source": [
        "### Esto es cierto para cualquier par de vectores"
      ],
      "metadata": {
        "id": "TI2HElhDKBTf"
      }
    },
    {
      "cell_type": "markdown",
      "source": [
        "## Pregunta 4\n",
        "\n",
        "¿Es verdad que $$\\begin{pmatrix}4\\\\5\\\\6\\\\\\end{pmatrix}+\\begin{pmatrix}-4\\\\-5\\\\-6\\\\\\end{pmatrix}=\\begin{pmatrix}0\\\\0\\\\0\\\\\\end{pmatrix}$$\n",
        "\n",
        "¿Es cierto solo para los vectores del ejemplo? o ¿es una regla general para cualquier par de vectores?"
      ],
      "metadata": {
        "id": "gcipBzzVKFlR"
      }
    },
    {
      "cell_type": "code",
      "source": [
        "m=Vector([4,5,6])\n",
        "n=Vector([-4,-5,-6])\n",
        "o=Vector([7,8,9])\n",
        "p=Vector([-7,-8,-9])\n",
        "display(Latex(latex(m+n)))\n",
        "display(Latex(latex(o+p)))"
      ],
      "metadata": {
        "colab": {
          "base_uri": "https://localhost:8080/",
          "height": 139
        },
        "id": "vhwkHzx3KInS",
        "outputId": "a52e444c-562b-41c6-f7d3-341b3782fe73"
      },
      "execution_count": null,
      "outputs": [
        {
          "output_type": "display_data",
          "data": {
            "text/plain": [
              "<IPython.core.display.Latex object>"
            ],
            "text/latex": "\\begin{pmatrix}0\\\\ 0\\\\ 0\\end{pmatrix}"
          },
          "metadata": {}
        },
        {
          "output_type": "display_data",
          "data": {
            "text/plain": [
              "<IPython.core.display.Latex object>"
            ],
            "text/latex": "\\begin{pmatrix}0\\\\ 0\\\\ 0\\end{pmatrix}"
          },
          "metadata": {}
        }
      ]
    },
    {
      "cell_type": "markdown",
      "source": [
        "### Esto es cierto para cualquier par de vectores"
      ],
      "metadata": {
        "id": "0O2U9oJXKU2P"
      }
    },
    {
      "cell_type": "markdown",
      "source": [
        "## Pregunta 5\n",
        "\n",
        "¿Es verdad que $$2\\begin{pmatrix}\\begin{pmatrix}1\\\\-1\\\\\\end{pmatrix}+\\begin{pmatrix}4\\\\5\\\\\\end{pmatrix}\\end{pmatrix}=2\\begin{pmatrix}1\\\\-1\\\\\\end{pmatrix}+2\\begin{pmatrix}4\\\\5\\\\\\end{pmatrix}$$\n",
        "\n",
        "¿Es una regla general para cualquier par de vectores? ¿Y si cambiamos el escalar 2 por otro número?\n"
      ],
      "metadata": {
        "id": "1a0fVciCKYPF"
      }
    },
    {
      "cell_type": "code",
      "source": [
        "m=Vector([1,-1])\n",
        "n=Vector([4,5])\n",
        "display(Latex(latex(2*(m+n))))\n",
        "display(Latex(latex((2*m)+(2*n))))\n",
        "display(Latex(latex(3*(m+n))))\n",
        "display(Latex(latex((3*m)+(3*n))))\n"
      ],
      "metadata": {
        "colab": {
          "base_uri": "https://localhost:8080/",
          "height": 180
        },
        "id": "oLNY1L9KKbcO",
        "outputId": "c76ff35c-8de5-4544-d316-945d28647aea"
      },
      "execution_count": null,
      "outputs": [
        {
          "output_type": "display_data",
          "data": {
            "text/plain": [
              "<IPython.core.display.Latex object>"
            ],
            "text/latex": "\\begin{pmatrix}10\\\\ 8\\end{pmatrix}"
          },
          "metadata": {}
        },
        {
          "output_type": "display_data",
          "data": {
            "text/plain": [
              "<IPython.core.display.Latex object>"
            ],
            "text/latex": "\\begin{pmatrix}10\\\\ 8\\end{pmatrix}"
          },
          "metadata": {}
        },
        {
          "output_type": "display_data",
          "data": {
            "text/plain": [
              "<IPython.core.display.Latex object>"
            ],
            "text/latex": "\\begin{pmatrix}15\\\\ 12\\end{pmatrix}"
          },
          "metadata": {}
        },
        {
          "output_type": "display_data",
          "data": {
            "text/plain": [
              "<IPython.core.display.Latex object>"
            ],
            "text/latex": "\\begin{pmatrix}15\\\\ 12\\end{pmatrix}"
          },
          "metadata": {}
        }
      ]
    },
    {
      "cell_type": "markdown",
      "source": [
        "### Esta regla es correcta para cualquier par de vectores, cumpliendose tambien si se cambia a escalar"
      ],
      "metadata": {
        "id": "uS8fQWmSKnai"
      }
    },
    {
      "cell_type": "markdown",
      "source": [
        "## Pregunta 6\n",
        "\n",
        "¿Es verdad que $$(2+3)\\begin{pmatrix}1\\\\2\\\\3\\\\\\end{pmatrix}=2\\begin{pmatrix}1\\\\2\\\\3\\\\\\end{pmatrix}+3\\begin{pmatrix}1\\\\2\\\\3\\\\\\end{pmatrix}$$\n",
        "\n",
        "¿Es una regla general para cualquier par de vectores? ¿y si cambiamos los escalares **2** y **3** por otros números?"
      ],
      "metadata": {
        "id": "Ds4orpQaKyf8"
      }
    },
    {
      "cell_type": "code",
      "source": [
        "m=Vector([1,2,3])\n",
        "display(Latex(latex((2+3)*m)))\n",
        "display(Latex(latex((2*m)+(3*m))))\n",
        "display(Latex(latex((4+5)*m)))\n",
        "display(Latex(latex((4*m)+(5*m))))"
      ],
      "metadata": {
        "colab": {
          "base_uri": "https://localhost:8080/",
          "height": 261
        },
        "id": "aQG428A6K0n9",
        "outputId": "4ff59794-0bd3-44cb-d210-18b618822eb3"
      },
      "execution_count": null,
      "outputs": [
        {
          "output_type": "display_data",
          "data": {
            "text/plain": [
              "<IPython.core.display.Latex object>"
            ],
            "text/latex": "\\begin{pmatrix}5\\\\ 10\\\\ 15\\end{pmatrix}"
          },
          "metadata": {}
        },
        {
          "output_type": "display_data",
          "data": {
            "text/plain": [
              "<IPython.core.display.Latex object>"
            ],
            "text/latex": "\\begin{pmatrix}5\\\\ 10\\\\ 15\\end{pmatrix}"
          },
          "metadata": {}
        },
        {
          "output_type": "display_data",
          "data": {
            "text/plain": [
              "<IPython.core.display.Latex object>"
            ],
            "text/latex": "\\begin{pmatrix}9\\\\ 18\\\\ 27\\end{pmatrix}"
          },
          "metadata": {}
        },
        {
          "output_type": "display_data",
          "data": {
            "text/plain": [
              "<IPython.core.display.Latex object>"
            ],
            "text/latex": "\\begin{pmatrix}9\\\\ 18\\\\ 27\\end{pmatrix}"
          },
          "metadata": {}
        }
      ]
    },
    {
      "cell_type": "markdown",
      "source": [
        "### Es una regla para cualquier par de vectores, inclusive si se cambian a escalares"
      ],
      "metadata": {
        "id": "aZN-Y5MqK-Tz"
      }
    },
    {
      "cell_type": "markdown",
      "source": [
        "## Pregunta 7\n",
        "\n",
        "¿Es verdad que $$2(3\\begin{pmatrix}1\\\\2\\\\\\end{pmatrix})=(2*3)\\begin{pmatrix}1\\\\2\\\\\\end{pmatrix}$$\n",
        "\n",
        "¿Es una regla general para cualquier par de vectores? ¿y si cambiamos los escalares **2** y **3** por otros números?\n"
      ],
      "metadata": {
        "id": "twclitOLLDRv"
      }
    },
    {
      "cell_type": "code",
      "source": [
        "m=Vector([1,2])\n",
        "display(Latex(latex((2*(3*m)))))\n",
        "display(Latex(latex((2*3)*m)))\n",
        "display(Latex(latex((4*(5*m)))))\n",
        "display(Latex(latex((4*5)*m)))"
      ],
      "metadata": {
        "colab": {
          "base_uri": "https://localhost:8080/",
          "height": 180
        },
        "id": "M_Gd29mkLFcS",
        "outputId": "8d5c1db1-3ae2-44b1-c67e-9de9de7ce57e"
      },
      "execution_count": null,
      "outputs": [
        {
          "output_type": "display_data",
          "data": {
            "text/plain": [
              "<IPython.core.display.Latex object>"
            ],
            "text/latex": "\\begin{pmatrix}6\\\\ 12\\end{pmatrix}"
          },
          "metadata": {}
        },
        {
          "output_type": "display_data",
          "data": {
            "text/plain": [
              "<IPython.core.display.Latex object>"
            ],
            "text/latex": "\\begin{pmatrix}6\\\\ 12\\end{pmatrix}"
          },
          "metadata": {}
        },
        {
          "output_type": "display_data",
          "data": {
            "text/plain": [
              "<IPython.core.display.Latex object>"
            ],
            "text/latex": "\\begin{pmatrix}20\\\\ 40\\end{pmatrix}"
          },
          "metadata": {}
        },
        {
          "output_type": "display_data",
          "data": {
            "text/plain": [
              "<IPython.core.display.Latex object>"
            ],
            "text/latex": "\\begin{pmatrix}20\\\\ 40\\end{pmatrix}"
          },
          "metadata": {}
        }
      ]
    },
    {
      "cell_type": "markdown",
      "source": [
        "### Comprobamos que si es una regla para cualquier par de vectores, inclusive si lo cambiamos a escalares\n"
      ],
      "metadata": {
        "id": "owuUh6gVLKnk"
      }
    },
    {
      "cell_type": "markdown",
      "source": [
        "## Pregunta 8\n",
        "\n",
        "¿Es verdad que si *a = 1* $$a\\begin{pmatrix}1\\\\2\\\\3\\\\\\end{pmatrix}=\\begin{pmatrix}1\\\\2\\\\3\\\\\\end{pmatrix}$$\n",
        "\n",
        "¿Es cierto solo para el escalar *a = 1*?\n"
      ],
      "metadata": {
        "id": "FYARPe3PLaJP"
      }
    },
    {
      "cell_type": "code",
      "source": [
        "a=Vector([1,2,3])\n",
        "display(Latex(latex(1*a)))"
      ],
      "metadata": {
        "colab": {
          "base_uri": "https://localhost:8080/",
          "height": 78
        },
        "id": "yGzZ5sSqLex2",
        "outputId": "fc16c343-1cf5-4984-d796-6104def725c9"
      },
      "execution_count": 11,
      "outputs": [
        {
          "output_type": "display_data",
          "data": {
            "text/plain": [
              "<IPython.core.display.Latex object>"
            ],
            "text/latex": "\\begin{pmatrix}1\\\\ 2\\\\ 3\\end{pmatrix}"
          },
          "metadata": {}
        }
      ]
    },
    {
      "cell_type": "markdown",
      "source": [
        "### Solo es correcto para el escalar *a = 1* ya que si se cambia el valor del escalar nos dará un vector distinto"
      ],
      "metadata": {
        "id": "9jHx2QAYL1HG"
      }
    },
    {
      "cell_type": "markdown",
      "source": [
        "#TAREA 2"
      ],
      "metadata": {
        "id": "ZFT-3jx2tbdm"
      }
    },
    {
      "cell_type": "code",
      "source": [
        "d = Vector( [4, 5, 6, 7, 8] )\n",
        "e = Vector( [1, 2, 3, 4, 5] )\n",
        "f = Vector( [9, 10, 11, 12, 13] )\n",
        "b = Matrix([d, e, f])\n",
        "a = Matrix([f, e, d])\n",
        "c = Matrix([e, f, d])\n",
        "display(Latex(latex(b)))\n",
        "display(Latex(latex(a)))"
      ],
      "metadata": {
        "colab": {
          "base_uri": "https://localhost:8080/",
          "height": 220
        },
        "id": "HHfS9dMgnLb_",
        "outputId": "7a327ba5-af7f-46c6-8832-229e1c41d73a"
      },
      "execution_count": 13,
      "outputs": [
        {
          "output_type": "display_data",
          "data": {
            "text/plain": [
              "<IPython.core.display.Latex object>"
            ],
            "text/latex": "\\left[ \\begin{array}{ccc}4&1&9\\\\5&2&10\\\\6&3&11\\\\7&4&12\\\\8&5&13\\\\ \\end{array} \\right]"
          },
          "metadata": {}
        },
        {
          "output_type": "display_data",
          "data": {
            "text/plain": [
              "<IPython.core.display.Latex object>"
            ],
            "text/latex": "\\left[ \\begin{array}{ccc}9&1&4\\\\10&2&5\\\\11&3&6\\\\12&4&7\\\\13&5&8\\\\ \\end{array} \\right]"
          },
          "metadata": {}
        }
      ]
    },
    {
      "cell_type": "markdown",
      "source": [
        "##Ejercicio 4"
      ],
      "metadata": {
        "id": "v3Zzvd-qeSa7"
      }
    },
    {
      "cell_type": "markdown",
      "source": [
        "###¿Cómo evalúa el módulo NAcAL las siguientes expresiones?\n",
        "a)3 * b|1\\\n",
        "b)3 * 1|b\\\n",
        "c)1 * 3|b\\\n",
        "d)1|b * 3"
      ],
      "metadata": {
        "id": "xBt86hegkxlk"
      }
    },
    {
      "cell_type": "code",
      "source": [
        "display(Latex(latex(3*b|1)))\n",
        "display(Latex(latex(3*1|b)))\n",
        "display(Latex(latex(1*3|b)))\n",
        "display(Latex(latex(1|b*3)))"
      ],
      "metadata": {
        "colab": {
          "base_uri": "https://localhost:8080/",
          "height": 183
        },
        "id": "WZbCzTF7l19F",
        "outputId": "893dba0b-2530-49b9-a9ee-3002057e2aac"
      },
      "execution_count": 16,
      "outputs": [
        {
          "output_type": "display_data",
          "data": {
            "text/plain": [
              "<IPython.core.display.Latex object>"
            ],
            "text/latex": "\\begin{pmatrix}12\\\\ 15\\\\ 18\\\\ 21\\\\ 24\\end{pmatrix}"
          },
          "metadata": {}
        },
        {
          "output_type": "display_data",
          "data": {
            "text/plain": [
              "<IPython.core.display.Latex object>"
            ],
            "text/latex": "\\begin{pmatrix}6,& 3,& 11,\\end{pmatrix}"
          },
          "metadata": {}
        },
        {
          "output_type": "display_data",
          "data": {
            "text/plain": [
              "<IPython.core.display.Latex object>"
            ],
            "text/latex": "\\begin{pmatrix}6,& 3,& 11,\\end{pmatrix}"
          },
          "metadata": {}
        },
        {
          "output_type": "display_data",
          "data": {
            "text/plain": [
              "<IPython.core.display.Latex object>"
            ],
            "text/latex": "\\begin{pmatrix}12,& 3,& 27,\\end{pmatrix}"
          },
          "metadata": {}
        }
      ]
    },
    {
      "cell_type": "markdown",
      "source": [
        "##Ejercicio 6"
      ],
      "metadata": {
        "id": "6tGOt0HetklR"
      }
    },
    {
      "cell_type": "markdown",
      "source": [
        "###Demuestre las propiedades de la siguiente proposición:"
      ],
      "metadata": {
        "id": "oREhaIP4pJ-l"
      }
    },
    {
      "cell_type": "markdown",
      "source": [
        "#A+B=B+A"
      ],
      "metadata": {
        "id": "LGLDz6zGs_dO"
      }
    },
    {
      "cell_type": "code",
      "source": [
        "display(Latex(latex(a+b)))\n",
        "display(Latex(latex(b+a)))"
      ],
      "metadata": {
        "colab": {
          "base_uri": "https://localhost:8080/",
          "height": 220
        },
        "id": "2-k7qaFOtDD3",
        "outputId": "40bb1c10-ede1-4ec1-a326-ce1c11365e9c"
      },
      "execution_count": 17,
      "outputs": [
        {
          "output_type": "display_data",
          "data": {
            "text/plain": [
              "<IPython.core.display.Latex object>"
            ],
            "text/latex": "\\left[ \\begin{array}{ccc}13&2&13\\\\15&4&15\\\\17&6&17\\\\19&8&19\\\\21&10&21\\\\ \\end{array} \\right]"
          },
          "metadata": {}
        },
        {
          "output_type": "display_data",
          "data": {
            "text/plain": [
              "<IPython.core.display.Latex object>"
            ],
            "text/latex": "\\left[ \\begin{array}{ccc}13&2&13\\\\15&4&15\\\\17&6&17\\\\19&8&19\\\\21&10&21\\\\ \\end{array} \\right]"
          },
          "metadata": {}
        }
      ]
    },
    {
      "cell_type": "markdown",
      "source": [
        "### La propiedad es correcta"
      ],
      "metadata": {
        "id": "qTUmfVsNtQe-"
      }
    },
    {
      "cell_type": "markdown",
      "source": [
        "#A+(B+C)=(A+B)+C"
      ],
      "metadata": {
        "id": "tUu21RymtpLu"
      }
    },
    {
      "cell_type": "code",
      "source": [
        "display(Latex(latex(a+(b+c))))\n",
        "display(Latex(latex((a+b)+c)))"
      ],
      "metadata": {
        "colab": {
          "base_uri": "https://localhost:8080/",
          "height": 220
        },
        "id": "Iqs8TKmItw8z",
        "outputId": "f7750426-1a79-403c-baeb-a3354310f436"
      },
      "execution_count": 18,
      "outputs": [
        {
          "output_type": "display_data",
          "data": {
            "text/plain": [
              "<IPython.core.display.Latex object>"
            ],
            "text/latex": "\\left[ \\begin{array}{ccc}14&11&17\\\\17&14&20\\\\20&17&23\\\\23&20&26\\\\26&23&29\\\\ \\end{array} \\right]"
          },
          "metadata": {}
        },
        {
          "output_type": "display_data",
          "data": {
            "text/plain": [
              "<IPython.core.display.Latex object>"
            ],
            "text/latex": "\\left[ \\begin{array}{ccc}14&11&17\\\\17&14&20\\\\20&17&23\\\\23&20&26\\\\26&23&29\\\\ \\end{array} \\right]"
          },
          "metadata": {}
        }
      ]
    },
    {
      "cell_type": "markdown",
      "source": [
        "###La propiedad es correcta"
      ],
      "metadata": {
        "id": "9XQsmwnBvOgw"
      }
    },
    {
      "cell_type": "markdown",
      "source": [
        "#0+A=A"
      ],
      "metadata": {
        "id": "LR_3QiRivQ5A"
      }
    },
    {
      "cell_type": "code",
      "source": [
        "display(Latex(latex(0+(1|a|1))))\n",
        "display(Latex(latex(1|a|1)))"
      ],
      "metadata": {
        "colab": {
          "base_uri": "https://localhost:8080/",
          "height": 58
        },
        "id": "z8HoV7_qv_QH",
        "outputId": "cc50188f-6276-4e29-a24d-02743c7565c7"
      },
      "execution_count": 22,
      "outputs": [
        {
          "output_type": "display_data",
          "data": {
            "text/plain": [
              "<IPython.core.display.Latex object>"
            ],
            "text/latex": "9"
          },
          "metadata": {}
        },
        {
          "output_type": "display_data",
          "data": {
            "text/plain": [
              "<IPython.core.display.Latex object>"
            ],
            "text/latex": "9"
          },
          "metadata": {}
        }
      ]
    },
    {
      "cell_type": "markdown",
      "source": [
        "###La propiedad es correcta"
      ],
      "metadata": {
        "id": "Cr21MAPAyKlF"
      }
    },
    {
      "cell_type": "markdown",
      "source": [
        "#A+(-A)=0"
      ],
      "metadata": {
        "id": "X1lQODJSyOFM"
      }
    },
    {
      "cell_type": "code",
      "source": [
        "display(Latex(latex(a+(-a))))"
      ],
      "metadata": {
        "colab": {
          "base_uri": "https://localhost:8080/",
          "height": 119
        },
        "id": "4clbQqCEyaDt",
        "outputId": "92191ef6-a817-4595-9484-80e788407c2d"
      },
      "execution_count": 23,
      "outputs": [
        {
          "output_type": "display_data",
          "data": {
            "text/plain": [
              "<IPython.core.display.Latex object>"
            ],
            "text/latex": "\\left[ \\begin{array}{ccc}0&0&0\\\\0&0&0\\\\0&0&0\\\\0&0&0\\\\0&0&0\\\\ \\end{array} \\right]"
          },
          "metadata": {}
        }
      ]
    },
    {
      "cell_type": "markdown",
      "source": [
        "###La propiedad es correcta"
      ],
      "metadata": {
        "id": "vaZKPEOAysig"
      }
    },
    {
      "cell_type": "markdown",
      "source": [
        "#λ(A+B)=λA+λB"
      ],
      "metadata": {
        "id": "gwsYXXF_zsCp"
      }
    },
    {
      "cell_type": "code",
      "source": [
        "display(Latex(latex(3*(a+b))))\n",
        "display(Latex(latex((3*a)+(3*b))))"
      ],
      "metadata": {
        "colab": {
          "base_uri": "https://localhost:8080/",
          "height": 220
        },
        "id": "Wgk2YF-_z0_G",
        "outputId": "4f31baa0-7259-4048-add4-b672490d8a1a"
      },
      "execution_count": 24,
      "outputs": [
        {
          "output_type": "display_data",
          "data": {
            "text/plain": [
              "<IPython.core.display.Latex object>"
            ],
            "text/latex": "\\left[ \\begin{array}{ccc}39&6&39\\\\45&12&45\\\\51&18&51\\\\57&24&57\\\\63&30&63\\\\ \\end{array} \\right]"
          },
          "metadata": {}
        },
        {
          "output_type": "display_data",
          "data": {
            "text/plain": [
              "<IPython.core.display.Latex object>"
            ],
            "text/latex": "\\left[ \\begin{array}{ccc}39&6&39\\\\45&12&45\\\\51&18&51\\\\57&24&57\\\\63&30&63\\\\ \\end{array} \\right]"
          },
          "metadata": {}
        }
      ]
    },
    {
      "cell_type": "markdown",
      "source": [
        "###La propiedad es correcta"
      ],
      "metadata": {
        "id": "r99DLj6Q0L6f"
      }
    },
    {
      "cell_type": "markdown",
      "source": [
        "#(λ+n)A=λA+n*A"
      ],
      "metadata": {
        "id": "rh9dX-6N0UwO"
      }
    },
    {
      "cell_type": "code",
      "source": [
        "display(Latex(latex((3+2)*a)))\n",
        "display(Latex(latex((3*a)+(2*a))))"
      ],
      "metadata": {
        "colab": {
          "base_uri": "https://localhost:8080/",
          "height": 220
        },
        "id": "wPOP9gBa1IKe",
        "outputId": "87e980b3-8b48-415c-b635-3733fa3c338c"
      },
      "execution_count": 26,
      "outputs": [
        {
          "output_type": "display_data",
          "data": {
            "text/plain": [
              "<IPython.core.display.Latex object>"
            ],
            "text/latex": "\\left[ \\begin{array}{ccc}45&5&20\\\\50&10&25\\\\55&15&30\\\\60&20&35\\\\65&25&40\\\\ \\end{array} \\right]"
          },
          "metadata": {}
        },
        {
          "output_type": "display_data",
          "data": {
            "text/plain": [
              "<IPython.core.display.Latex object>"
            ],
            "text/latex": "\\left[ \\begin{array}{ccc}45&5&20\\\\50&10&25\\\\55&15&30\\\\60&20&35\\\\65&25&40\\\\ \\end{array} \\right]"
          },
          "metadata": {}
        }
      ]
    },
    {
      "cell_type": "markdown",
      "source": [
        "###La propiedad es correcta"
      ],
      "metadata": {
        "id": "Ib60nhrU1Xdo"
      }
    },
    {
      "cell_type": "markdown",
      "source": [
        "#λ(nA)=(λn)A"
      ],
      "metadata": {
        "id": "GP9ejC1y1Z8J"
      }
    },
    {
      "cell_type": "code",
      "source": [
        "display(Latex(latex(3*(2*a))))\n",
        "display(Latex(latex((2*3)*a)))"
      ],
      "metadata": {
        "colab": {
          "base_uri": "https://localhost:8080/",
          "height": 220
        },
        "id": "DKeZoy5R10eT",
        "outputId": "0a85bf20-faf2-4588-9b3a-891566d3037a"
      },
      "execution_count": 30,
      "outputs": [
        {
          "output_type": "display_data",
          "data": {
            "text/plain": [
              "<IPython.core.display.Latex object>"
            ],
            "text/latex": "\\left[ \\begin{array}{ccc}54&6&24\\\\60&12&30\\\\66&18&36\\\\72&24&42\\\\78&30&48\\\\ \\end{array} \\right]"
          },
          "metadata": {}
        },
        {
          "output_type": "display_data",
          "data": {
            "text/plain": [
              "<IPython.core.display.Latex object>"
            ],
            "text/latex": "\\left[ \\begin{array}{ccc}54&6&24\\\\60&12&30\\\\66&18&36\\\\72&24&42\\\\78&30&48\\\\ \\end{array} \\right]"
          },
          "metadata": {}
        }
      ]
    },
    {
      "cell_type": "markdown",
      "source": [
        "###La propiedad es correcta"
      ],
      "metadata": {
        "id": "BmdA06LX2Crh"
      }
    },
    {
      "cell_type": "markdown",
      "source": [
        "#1A=A"
      ],
      "metadata": {
        "id": "53frGPJ92EmZ"
      }
    },
    {
      "cell_type": "code",
      "source": [
        "display(Latex(latex(a)))\n",
        "display(Latex(latex(1*a)))"
      ],
      "metadata": {
        "colab": {
          "base_uri": "https://localhost:8080/",
          "height": 220
        },
        "id": "9SZaFj2G2HGq",
        "outputId": "933c8dce-0cf9-4d9e-ed90-ebbfeda7aa27"
      },
      "execution_count": 31,
      "outputs": [
        {
          "output_type": "display_data",
          "data": {
            "text/plain": [
              "<IPython.core.display.Latex object>"
            ],
            "text/latex": "\\left[ \\begin{array}{ccc}9&1&4\\\\10&2&5\\\\11&3&6\\\\12&4&7\\\\13&5&8\\\\ \\end{array} \\right]"
          },
          "metadata": {}
        },
        {
          "output_type": "display_data",
          "data": {
            "text/plain": [
              "<IPython.core.display.Latex object>"
            ],
            "text/latex": "\\left[ \\begin{array}{ccc}9&1&4\\\\10&2&5\\\\11&3&6\\\\12&4&7\\\\13&5&8\\\\ \\end{array} \\right]"
          },
          "metadata": {}
        }
      ]
    },
    {
      "cell_type": "markdown",
      "source": [
        "###La propiedad es correcta"
      ],
      "metadata": {
        "id": "sQvqw8BX2PCK"
      }
    }
  ]
}